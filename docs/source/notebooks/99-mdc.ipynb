{
 "cells": [
  {
   "cell_type": "markdown",
   "metadata": {},
   "source": [
    "# MDC integration"
   ]
  },
  {
   "cell_type": "raw",
   "metadata": {},
   "source": [
    ".. brython ::\n",
    "\n",
    "    from mdc import MDCButton\n",
    "    #!ignore\n",
    "    button = MDCButton('ButtonXX', raised=True)\n",
    "    container <= button"
   ]
  }
 ],
 "metadata": {
  "kernelspec": {
   "display_name": "Python 3",
   "language": "python",
   "name": "python3"
  },
  "language_info": {
   "codemirror_mode": {
    "name": "ipython",
    "version": 3
   },
   "file_extension": ".py",
   "mimetype": "text/x-python",
   "name": "python",
   "nbconvert_exporter": "python",
   "pygments_lexer": "ipython3",
   "version": "3.9.1"
  }
 },
 "nbformat": 4,
 "nbformat_minor": 4
}
