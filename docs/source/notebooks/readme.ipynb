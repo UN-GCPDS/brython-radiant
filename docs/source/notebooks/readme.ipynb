{
 "cells": [
  {
   "cell_type": "markdown",
   "metadata": {},
   "source": [
    "# Radiant\n",
    "Brython framework\n",
    "\n",
    "![GitHub top language](https://img.shields.io/github/languages/top/un-gcpds/radiant?)\n",
    "![PyPI - License](https://img.shields.io/pypi/l/radiant?)\n",
    "![PyPI](https://img.shields.io/pypi/v/radiant?)\n",
    "![PyPI - Status](https://img.shields.io/pypi/status/radiant?)\n",
    "![PyPI - Python Version](https://img.shields.io/pypi/pyversions/radiant?)\n",
    "![GitHub last commit](https://img.shields.io/github/last-commit/un-gcpds/radiant?)\n",
    "![CodeFactor Grade](https://img.shields.io/codefactor/grade/github/UN-GCPDS/radiant?)\n",
    "[![Documentation Status](https://readthedocs.org/projects/radiant/badge/?version=latest)](https://radiant.readthedocs.io/en/latest/?badge=latest)\n",
    "\n"
   ]
  },
  {
   "cell_type": "markdown",
   "metadata": {},
   "source": [
    "## Instalation"
   ]
  },
  {
   "cell_type": "code",
   "execution_count": null,
   "metadata": {},
   "outputs": [],
   "source": [
    "pip install radiant"
   ]
  },
  {
   "cell_type": "markdown",
   "metadata": {},
   "source": [
    "## Usage"
   ]
  },
  {
   "cell_type": "code",
   "execution_count": null,
   "metadata": {},
   "outputs": [],
   "source": [
    "# Brython modules\n",
    "from browser import document, html\n",
    "\n",
    "# Radiant modules\n",
    "from radiant import RadiantAPI, RadiantServer\n",
    "\n",
    "\n",
    "# Main class inheriting RadiantAPI\n",
    "class BareMinimum(RadiantAPI):\n",
    "\n",
    "    # Constructor \n",
    "    def __init__(self, *args, **kwargs):\n",
    "        super().__init__(*args, **kwargs)\n",
    "    \n",
    "        # Brython code (finally)\n",
    "        document.select_one('body') <= html.H1('Hello World')\n",
    "\n",
    "# Execute server\n",
    "if __name__ == '__main__':\n",
    "    RadiantServer('BareMinimum')"
   ]
  }
 ],
 "metadata": {
  "kernelspec": {
   "display_name": "Python 3",
   "language": "python",
   "name": "python3"
  },
  "language_info": {
   "codemirror_mode": {
    "name": "ipython",
    "version": 3
   },
   "file_extension": ".py",
   "mimetype": "text/x-python",
   "name": "python",
   "nbconvert_exporter": "python",
   "pygments_lexer": "ipython3",
   "version": "3.9.1"
  }
 },
 "nbformat": 4,
 "nbformat_minor": 4
}
